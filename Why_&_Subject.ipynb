{
  "nbformat": 4,
  "nbformat_minor": 0,
  "metadata": {
    "colab": {
      "name": "Why & Subject.ipynb",
      "provenance": [],
      "mount_file_id": "1j8XGxiHBCMezY6hfbMURyVH6f4Ls1WXY",
      "authorship_tag": "ABX9TyOSLoLsqAoV5v1x7FbX4b2m",
      "include_colab_link": true
    },
    "kernelspec": {
      "name": "python3",
      "display_name": "Python 3"
    },
    "language_info": {
      "name": "python"
    }
  },
  "cells": [
    {
      "cell_type": "markdown",
      "metadata": {
        "id": "view-in-github",
        "colab_type": "text"
      },
      "source": [
        "<a href=\"https://colab.research.google.com/github/vaishnavir33/hpe/blob/main/Why_%26_Subject.ipynb\" target=\"_parent\"><img src=\"https://colab.research.google.com/assets/colab-badge.svg\" alt=\"Open In Colab\"/></a>"
      ]
    },
    {
      "cell_type": "code",
      "metadata": {
        "colab": {
          "base_uri": "https://localhost:8080/"
        },
        "id": "4IDbnGKhdigX",
        "outputId": "7dc1432f-074e-4279-c82e-6755278e50c4"
      },
      "source": [
        "!pip3 install gensim==3.8.3"
      ],
      "execution_count": 18,
      "outputs": [
        {
          "output_type": "stream",
          "text": [
            "Requirement already satisfied: gensim==3.8.3 in /usr/local/lib/python3.7/dist-packages (3.8.3)\n",
            "Requirement already satisfied: smart-open>=1.8.1 in /usr/local/lib/python3.7/dist-packages (from gensim==3.8.3) (5.1.0)\n",
            "Requirement already satisfied: six>=1.5.0 in /usr/local/lib/python3.7/dist-packages (from gensim==3.8.3) (1.15.0)\n",
            "Requirement already satisfied: numpy>=1.11.3 in /usr/local/lib/python3.7/dist-packages (from gensim==3.8.3) (1.19.5)\n",
            "Requirement already satisfied: scipy>=0.18.1 in /usr/local/lib/python3.7/dist-packages (from gensim==3.8.3) (1.4.1)\n"
          ],
          "name": "stdout"
        }
      ]
    },
    {
      "cell_type": "code",
      "metadata": {
        "id": "7dYWaDqsdsDL"
      },
      "source": [
        "import pandas as pd\n",
        "import numpy as np\n",
        "import random\n",
        "from tqdm import tqdm\n",
        "from gensim.models import Word2Vec \n",
        "import matplotlib.pyplot as plt\n",
        "%matplotlib inline\n",
        "\n",
        "import warnings;\n",
        "warnings.filterwarnings('ignore')"
      ],
      "execution_count": 19,
      "outputs": []
    },
    {
      "cell_type": "code",
      "metadata": {
        "colab": {
          "base_uri": "https://localhost:8080/",
          "height": 768
        },
        "id": "X3h8bxZgdsLM",
        "outputId": "83a35a7c-1999-4160-8b24-6766721d07bc"
      },
      "source": [
        "df = pd.read_excel('/content/drive/MyDrive/HPE/Sent/Results New.xlsx')\n",
        "df.head()"
      ],
      "execution_count": 20,
      "outputs": [
        {
          "output_type": "execute_result",
          "data": {
            "text/html": [
              "<div>\n",
              "<style scoped>\n",
              "    .dataframe tbody tr th:only-of-type {\n",
              "        vertical-align: middle;\n",
              "    }\n",
              "\n",
              "    .dataframe tbody tr th {\n",
              "        vertical-align: top;\n",
              "    }\n",
              "\n",
              "    .dataframe thead th {\n",
              "        text-align: right;\n",
              "    }\n",
              "</style>\n",
              "<table border=\"1\" class=\"dataframe\">\n",
              "  <thead>\n",
              "    <tr style=\"text-align: right;\">\n",
              "      <th></th>\n",
              "      <th>CommitID</th>\n",
              "      <th>Subject</th>\n",
              "      <th>Authname</th>\n",
              "      <th>Authmail</th>\n",
              "      <th>Commname</th>\n",
              "      <th>Commmail</th>\n",
              "      <th>Modf</th>\n",
              "      <th>Added</th>\n",
              "      <th>Dltd</th>\n",
              "      <th>Fname</th>\n",
              "      <th>What</th>\n",
              "      <th>Why</th>\n",
              "    </tr>\n",
              "  </thead>\n",
              "  <tbody>\n",
              "    <tr>\n",
              "      <th>0</th>\n",
              "      <td>11ea255283509a9f016f378df4865235a25b1851</td>\n",
              "      <td>[SPARK-35111][SQL] Support Cast string to year...</td>\n",
              "      <td>Angerszhuuuu</td>\n",
              "      <td>angers.zhu@gmail.com</td>\n",
              "      <td>Max Gekk</td>\n",
              "      <td>max.gekk@gmail.com</td>\n",
              "      <td>TRUE</td>\n",
              "      <td>False</td>\n",
              "      <td>False</td>\n",
              "      <td>sql/catalyst/src/main/scala/org/apache/spark/s...</td>\n",
              "      <td>Support Cast string to year-month intervalSupp...</td>\n",
              "      <td>Support Cast string to year-month interval</td>\n",
              "    </tr>\n",
              "    <tr>\n",
              "      <th>1</th>\n",
              "      <td>11ea255283509a9f016f378df4865235a25b1851</td>\n",
              "      <td>[SPARK-35111][SQL] Support Cast string to year...</td>\n",
              "      <td>Angerszhuuuu</td>\n",
              "      <td>angers.zhu@gmail.com</td>\n",
              "      <td>Max Gekk</td>\n",
              "      <td>max.gekk@gmail.com</td>\n",
              "      <td>TRUE</td>\n",
              "      <td>False</td>\n",
              "      <td>False</td>\n",
              "      <td>sql/catalyst/src/main/scala/org/apache/spark/s...</td>\n",
              "      <td>Support Cast string to year-month intervalSupp...</td>\n",
              "      <td>Support Cast string to year-month interval</td>\n",
              "    </tr>\n",
              "    <tr>\n",
              "      <th>2</th>\n",
              "      <td>11ea255283509a9f016f378df4865235a25b1851</td>\n",
              "      <td>[SPARK-35111][SQL] Support Cast string to year...</td>\n",
              "      <td>Angerszhuuuu</td>\n",
              "      <td>angers.zhu@gmail.com</td>\n",
              "      <td>Max Gekk</td>\n",
              "      <td>max.gekk@gmail.com</td>\n",
              "      <td>TRUE</td>\n",
              "      <td>False</td>\n",
              "      <td>False</td>\n",
              "      <td>sql/catalyst/src/test/scala/org/apache/spark/s...</td>\n",
              "      <td>Support Cast string to year-month intervalSupp...</td>\n",
              "      <td>Support Cast string to year-month interval</td>\n",
              "    </tr>\n",
              "    <tr>\n",
              "      <th>3</th>\n",
              "      <td>2d2f467831d17df38fc6522da5066a8d848caaf5</td>\n",
              "      <td>[SPARK-35169][SQL] Fix wrong result of min ANS...</td>\n",
              "      <td>Angerszhuuuu</td>\n",
              "      <td>angers.zhu@gmail.com</td>\n",
              "      <td>Wenchen Fan</td>\n",
              "      <td>wenchen@databricks.com</td>\n",
              "      <td>TRUE</td>\n",
              "      <td>False</td>\n",
              "      <td>False</td>\n",
              "      <td>sql/catalyst/src/main/scala/org/apache/spark/s...</td>\n",
              "      <td>Before this patchWrong result of min ANSI inte...</td>\n",
              "      <td>Fix bug</td>\n",
              "    </tr>\n",
              "    <tr>\n",
              "      <th>4</th>\n",
              "      <td>2d2f467831d17df38fc6522da5066a8d848caaf5</td>\n",
              "      <td>[SPARK-35169][SQL] Fix wrong result of min ANS...</td>\n",
              "      <td>Angerszhuuuu</td>\n",
              "      <td>angers.zhu@gmail.com</td>\n",
              "      <td>Wenchen Fan</td>\n",
              "      <td>wenchen@databricks.com</td>\n",
              "      <td>TRUE</td>\n",
              "      <td>False</td>\n",
              "      <td>False</td>\n",
              "      <td>sql/core/src/test/resources/sql-tests/inputs/i...</td>\n",
              "      <td>Before this patchWrong result of min ANSI inte...</td>\n",
              "      <td>Fix bug</td>\n",
              "    </tr>\n",
              "  </tbody>\n",
              "</table>\n",
              "</div>"
            ],
            "text/plain": [
              "                                   CommitID  ...                                         Why\n",
              "0  11ea255283509a9f016f378df4865235a25b1851  ...  Support Cast string to year-month interval\n",
              "1  11ea255283509a9f016f378df4865235a25b1851  ...  Support Cast string to year-month interval\n",
              "2  11ea255283509a9f016f378df4865235a25b1851  ...  Support Cast string to year-month interval\n",
              "3  2d2f467831d17df38fc6522da5066a8d848caaf5  ...                                     Fix bug\n",
              "4  2d2f467831d17df38fc6522da5066a8d848caaf5  ...                                     Fix bug\n",
              "\n",
              "[5 rows x 12 columns]"
            ]
          },
          "metadata": {
            "tags": []
          },
          "execution_count": 20
        }
      ]
    },
    {
      "cell_type": "code",
      "metadata": {
        "colab": {
          "base_uri": "https://localhost:8080/"
        },
        "id": "d7ON7kw_dsPC",
        "outputId": "258ec40e-8892-44d5-8304-fd7813803f38"
      },
      "source": [
        "df.shape"
      ],
      "execution_count": 21,
      "outputs": [
        {
          "output_type": "execute_result",
          "data": {
            "text/plain": [
              "(10737, 12)"
            ]
          },
          "metadata": {
            "tags": []
          },
          "execution_count": 21
        }
      ]
    },
    {
      "cell_type": "code",
      "metadata": {
        "colab": {
          "base_uri": "https://localhost:8080/"
        },
        "id": "vUTFUdgYdsSb",
        "outputId": "1850dc0d-d85f-4859-d094-e0a8c65c032c"
      },
      "source": [
        "df.isnull().sum()"
      ],
      "execution_count": 22,
      "outputs": [
        {
          "output_type": "execute_result",
          "data": {
            "text/plain": [
              "CommitID    0\n",
              "Subject     0\n",
              "Authname    0\n",
              "Authmail    0\n",
              "Commname    0\n",
              "Commmail    0\n",
              "Modf        0\n",
              "Added       0\n",
              "Dltd        0\n",
              "Fname       0\n",
              "What        0\n",
              "Why         0\n",
              "dtype: int64"
            ]
          },
          "metadata": {
            "tags": []
          },
          "execution_count": 22
        }
      ]
    },
    {
      "cell_type": "code",
      "metadata": {
        "id": "Zg3fR2CzdsWL"
      },
      "source": [
        "df.dropna(inplace=True)"
      ],
      "execution_count": 23,
      "outputs": []
    },
    {
      "cell_type": "code",
      "metadata": {
        "id": "4hHEWrKvdsat"
      },
      "source": [
        "df['Subject']= df['Subject'].astype(str)"
      ],
      "execution_count": 24,
      "outputs": []
    },
    {
      "cell_type": "code",
      "metadata": {
        "colab": {
          "base_uri": "https://localhost:8080/"
        },
        "id": "7VCmM8PPdsen",
        "outputId": "e28adc41-25c2-4b87-a4ea-fdf55f5a20cb"
      },
      "source": [
        "why = df[\"Why\"].unique().tolist()\n",
        "len(why)"
      ],
      "execution_count": 25,
      "outputs": [
        {
          "output_type": "execute_result",
          "data": {
            "text/plain": [
              "1424"
            ]
          },
          "metadata": {
            "tags": []
          },
          "execution_count": 25
        }
      ]
    },
    {
      "cell_type": "code",
      "metadata": {
        "id": "LPJy6k-_dsiC"
      },
      "source": [
        "random.shuffle(why)\n",
        "\n",
        "\n",
        "why_train = [why[i] for i in range(round(0.9*len(why)))]\n",
        "\n",
        "train_df = df[df['Why'].isin(why_train)]\n",
        "validation_df = df[~df['Why'].isin(why_train)]"
      ],
      "execution_count": 26,
      "outputs": []
    },
    {
      "cell_type": "code",
      "metadata": {
        "colab": {
          "base_uri": "https://localhost:8080/"
        },
        "id": "HZFji01NfJSy",
        "outputId": "9c17d546-1ba4-4f3f-d385-e6d95511e5cc"
      },
      "source": [
        "changes_train = []\n",
        "\n",
        "\n",
        "for i in tqdm(why_train):\n",
        "    temp = train_df[train_df[\"Why\"] == i][\"Subject\"].tolist()\n",
        "    changes_train.append(temp)"
      ],
      "execution_count": 27,
      "outputs": [
        {
          "output_type": "stream",
          "text": [
            "100%|██████████| 1282/1282 [00:01<00:00, 1025.50it/s]\n"
          ],
          "name": "stderr"
        }
      ]
    },
    {
      "cell_type": "code",
      "metadata": {
        "colab": {
          "base_uri": "https://localhost:8080/"
        },
        "id": "8ou09gT9fJYM",
        "outputId": "243cd3ce-8b47-4adc-f7cb-5d1517c634e7"
      },
      "source": [
        "changes_val = []\n",
        "\n",
        "for i in tqdm(validation_df['Why'].unique()):\n",
        "    temp = validation_df[validation_df[\"Why\"] == i][\"Subject\"].tolist()\n",
        "    changes_val.append(temp)"
      ],
      "execution_count": 28,
      "outputs": [
        {
          "output_type": "stream",
          "text": [
            "100%|██████████| 142/142 [00:00<00:00, 1848.34it/s]\n"
          ],
          "name": "stderr"
        }
      ]
    },
    {
      "cell_type": "code",
      "metadata": {
        "colab": {
          "base_uri": "https://localhost:8080/"
        },
        "id": "lRFhNNO3fJct",
        "outputId": "5b261a62-b061-4d1d-f7eb-27c10fe891a2"
      },
      "source": [
        " #train word2vec model\n",
        "model = Word2Vec(window = 10, sg = 1, hs = 0,\n",
        "                 negative = 10, # for negative sampling\n",
        "                 alpha=0.03, min_alpha=0.0007,\n",
        "                 seed = 14)\n",
        "\n",
        "model.build_vocab(changes_train, progress_per=200)\n",
        "\n",
        "model.train(changes_train, total_examples = model.corpus_count, \n",
        "            epochs=10, report_delay=1)"
      ],
      "execution_count": 29,
      "outputs": [
        {
          "output_type": "execute_result",
          "data": {
            "text/plain": [
              "(42265, 89520)"
            ]
          },
          "metadata": {
            "tags": []
          },
          "execution_count": 29
        }
      ]
    },
    {
      "cell_type": "code",
      "metadata": {
        "id": "NSDIyeBUfJhU"
      },
      "source": [
        "model.init_sims(replace=True)"
      ],
      "execution_count": 30,
      "outputs": []
    },
    {
      "cell_type": "code",
      "metadata": {
        "colab": {
          "base_uri": "https://localhost:8080/"
        },
        "id": "Nt2mpacZfJls",
        "outputId": "7aa2775b-e010-4509-d03c-2eb9aec785cf"
      },
      "source": [
        "print(model)"
      ],
      "execution_count": 31,
      "outputs": [
        {
          "output_type": "stream",
          "text": [
            "Word2Vec(vocab=375, size=100, alpha=0.03)\n"
          ],
          "name": "stdout"
        }
      ]
    },
    {
      "cell_type": "code",
      "metadata": {
        "colab": {
          "base_uri": "https://localhost:8080/"
        },
        "id": "hnJG2-D3fJs6",
        "outputId": "f16bedca-9f5b-4d3c-b95a-ba112c16fb3c"
      },
      "source": [
        "# extract all vectors\n",
        "X = model[model.wv.vocab]\n",
        "\n",
        "X.shape"
      ],
      "execution_count": 32,
      "outputs": [
        {
          "output_type": "execute_result",
          "data": {
            "text/plain": [
              "(375, 100)"
            ]
          },
          "metadata": {
            "tags": []
          },
          "execution_count": 32
        }
      ]
    },
    {
      "cell_type": "code",
      "metadata": {
        "colab": {
          "base_uri": "https://localhost:8080/"
        },
        "id": "hOOmrfjjfJx2",
        "outputId": "1642b20b-1526-41ad-b9e3-5a7f87e6d416"
      },
      "source": [
        "!pip install umap-learn"
      ],
      "execution_count": 33,
      "outputs": [
        {
          "output_type": "stream",
          "text": [
            "Requirement already satisfied: umap-learn in /usr/local/lib/python3.7/dist-packages (0.5.1)\n",
            "Requirement already satisfied: pynndescent>=0.5 in /usr/local/lib/python3.7/dist-packages (from umap-learn) (0.5.2)\n",
            "Requirement already satisfied: scikit-learn>=0.22 in /usr/local/lib/python3.7/dist-packages (from umap-learn) (0.22.2.post1)\n",
            "Requirement already satisfied: numba>=0.49 in /usr/local/lib/python3.7/dist-packages (from umap-learn) (0.51.2)\n",
            "Requirement already satisfied: scipy>=1.0 in /usr/local/lib/python3.7/dist-packages (from umap-learn) (1.4.1)\n",
            "Requirement already satisfied: numpy>=1.17 in /usr/local/lib/python3.7/dist-packages (from umap-learn) (1.19.5)\n",
            "Requirement already satisfied: joblib>=0.11 in /usr/local/lib/python3.7/dist-packages (from pynndescent>=0.5->umap-learn) (1.0.1)\n",
            "Requirement already satisfied: llvmlite>=0.30 in /usr/local/lib/python3.7/dist-packages (from pynndescent>=0.5->umap-learn) (0.34.0)\n",
            "Requirement already satisfied: setuptools in /usr/local/lib/python3.7/dist-packages (from numba>=0.49->umap-learn) (57.0.0)\n"
          ],
          "name": "stdout"
        }
      ]
    },
    {
      "cell_type": "code",
      "metadata": {
        "colab": {
          "base_uri": "https://localhost:8080/",
          "height": 554
        },
        "id": "I_d5BEZgfJ0-",
        "outputId": "5de34b16-4471-4ac6-80da-70c37f48f446"
      },
      "source": [
        "import umap\n",
        "\n",
        "cluster_embedding = umap.UMAP(n_neighbors=30, min_dist=0.0,\n",
        "                              n_components=2, random_state=42).fit_transform(X)\n",
        "\n",
        "plt.figure(figsize=(10,9))\n",
        "plt.scatter(cluster_embedding[:, 0], cluster_embedding[:, 1], s=3, cmap='Spectral')"
      ],
      "execution_count": 34,
      "outputs": [
        {
          "output_type": "execute_result",
          "data": {
            "text/plain": [
              "<matplotlib.collections.PathCollection at 0x7fe17e297b10>"
            ]
          },
          "metadata": {
            "tags": []
          },
          "execution_count": 34
        },
        {
          "output_type": "display_data",
          "data": {
            "image/png": "[encoded data removed]",
            "text/plain": [
              "<Figure size 720x648 with 1 Axes>"
            ]
          },
          "metadata": {
            "tags": [],
            "needs_background": "light"
          }
        }
      ]
    },
    {
      "cell_type": "code",
      "metadata": {
        "id": "y5L7dzmqfJ4n"
      },
      "source": [
        ""
      ],
      "execution_count": 34,
      "outputs": []
    },
    {
      "cell_type": "code",
      "metadata": {
        "id": "X9c1N-aXfJ8F"
      },
      "source": [
        ""
      ],
      "execution_count": 34,
      "outputs": []
    },
    {
      "cell_type": "code",
      "metadata": {
        "id": "yoYYIg49fJ_p"
      },
      "source": [
        ""
      ],
      "execution_count": 34,
      "outputs": []
    },
    {
      "cell_type": "code",
      "metadata": {
        "id": "YgaG4m6EfKC8"
      },
      "source": [
        ""
      ],
      "execution_count": 34,
      "outputs": []
    },
    {
      "cell_type": "code",
      "metadata": {
        "id": "aWHXSQnLfLJA"
      },
      "source": [
        ""
      ],
      "execution_count": 34,
      "outputs": []
    },
    {
      "cell_type": "code",
      "metadata": {
        "id": "MH1eDf0XfLNb"
      },
      "source": [
        ""
      ],
      "execution_count": 34,
      "outputs": []
    },
    {
      "cell_type": "code",
      "metadata": {
        "id": "vEuVu_ocfLRz"
      },
      "source": [
        ""
      ],
      "execution_count": 34,
      "outputs": []
    },
    {
      "cell_type": "code",
      "metadata": {
        "id": "RpPIJvz-fLVT"
      },
      "source": [
        ""
      ],
      "execution_count": 34,
      "outputs": []
    }
  ]
}