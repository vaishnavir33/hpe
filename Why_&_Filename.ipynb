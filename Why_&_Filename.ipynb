{
  "nbformat": 4,
  "nbformat_minor": 0,
  "metadata": {
    "colab": {
      "name": "Why & Filename.ipynb",
      "provenance": [],
      "collapsed_sections": [],
      "mount_file_id": "1odeLeZmJMQVQHkDagt_FN5eU4HMUOF7v",
      "authorship_tag": "ABX9TyNT1HDp+AvFQ7KTNu1asZZq",
      "include_colab_link": true
    },
    "kernelspec": {
      "name": "python3",
      "display_name": "Python 3"
    },
    "language_info": {
      "name": "python"
    }
  },
  "cells": [
    {
      "cell_type": "markdown",
      "metadata": {
        "id": "view-in-github",
        "colab_type": "text"
      },
      "source": [
        "<a href=\"https://colab.research.google.com/github/vaishnavir33/hpe/blob/main/Why_%26_Filename.ipynb\" target=\"_parent\"><img src=\"https://colab.research.google.com/assets/colab-badge.svg\" alt=\"Open In Colab\"/></a>"
      ]
    },
    {
      "cell_type": "code",
      "metadata": {
        "colab": {
          "base_uri": "https://localhost:8080/"
        },
        "id": "nR1wI-CO64Rx",
        "outputId": "6d20c6a7-4e35-47f1-c1e8-63c8e3a59d67"
      },
      "source": [
        "!pip3 install gensim==3.8.3"
      ],
      "execution_count": 1,
      "outputs": [
        {
          "output_type": "stream",
          "text": [
            "Collecting gensim==3.8.3\n",
            "\u001b[?25l  Downloading https://files.pythonhosted.org/packages/5c/4e/afe2315e08a38967f8a3036bbe7e38b428e9b7a90e823a83d0d49df1adf5/gensim-3.8.3-cp37-cp37m-manylinux1_x86_64.whl (24.2MB)\n",
            "\u001b[K     |████████████████████████████████| 24.2MB 110kB/s \n",
            "\u001b[?25hRequirement already satisfied: scipy>=0.18.1 in /usr/local/lib/python3.7/dist-packages (from gensim==3.8.3) (1.4.1)\n",
            "Requirement already satisfied: smart-open>=1.8.1 in /usr/local/lib/python3.7/dist-packages (from gensim==3.8.3) (5.1.0)\n",
            "Requirement already satisfied: six>=1.5.0 in /usr/local/lib/python3.7/dist-packages (from gensim==3.8.3) (1.15.0)\n",
            "Requirement already satisfied: numpy>=1.11.3 in /usr/local/lib/python3.7/dist-packages (from gensim==3.8.3) (1.19.5)\n",
            "Installing collected packages: gensim\n",
            "  Found existing installation: gensim 3.6.0\n",
            "    Uninstalling gensim-3.6.0:\n",
            "      Successfully uninstalled gensim-3.6.0\n",
            "Successfully installed gensim-3.8.3\n"
          ],
          "name": "stdout"
        }
      ]
    },
    {
      "cell_type": "code",
      "metadata": {
        "id": "Ufn-EzN47FfF"
      },
      "source": [
        "import pandas as pd\n",
        "import numpy as np\n",
        "import random\n",
        "from tqdm import tqdm\n",
        "from gensim.models import Word2Vec \n",
        "import matplotlib.pyplot as plt\n",
        "%matplotlib inline\n",
        "\n",
        "import warnings;\n",
        "warnings.filterwarnings('ignore')"
      ],
      "execution_count": 2,
      "outputs": []
    },
    {
      "cell_type": "code",
      "metadata": {
        "colab": {
          "base_uri": "https://localhost:8080/",
          "height": 768
        },
        "id": "uBQpXtkq7FmL",
        "outputId": "ab861ad1-c294-4fbf-a712-25dab263b732"
      },
      "source": [
        "df = pd.read_excel('/content/drive/MyDrive/HPE/Sent/Results New.xlsx')\n",
        "df.head()"
      ],
      "execution_count": 3,
      "outputs": [
        {
          "output_type": "execute_result",
          "data": {
            "text/html": [
              "<div>\n",
              "<style scoped>\n",
              "    .dataframe tbody tr th:only-of-type {\n",
              "        vertical-align: middle;\n",
              "    }\n",
              "\n",
              "    .dataframe tbody tr th {\n",
              "        vertical-align: top;\n",
              "    }\n",
              "\n",
              "    .dataframe thead th {\n",
              "        text-align: right;\n",
              "    }\n",
              "</style>\n",
              "<table border=\"1\" class=\"dataframe\">\n",
              "  <thead>\n",
              "    <tr style=\"text-align: right;\">\n",
              "      <th></th>\n",
              "      <th>CommitID</th>\n",
              "      <th>Subject</th>\n",
              "      <th>Authname</th>\n",
              "      <th>Authmail</th>\n",
              "      <th>Commname</th>\n",
              "      <th>Commmail</th>\n",
              "      <th>Modf</th>\n",
              "      <th>Added</th>\n",
              "      <th>Dltd</th>\n",
              "      <th>Fname</th>\n",
              "      <th>What</th>\n",
              "      <th>Why</th>\n",
              "    </tr>\n",
              "  </thead>\n",
              "  <tbody>\n",
              "    <tr>\n",
              "      <th>0</th>\n",
              "      <td>11ea255283509a9f016f378df4865235a25b1851</td>\n",
              "      <td>[SPARK-35111][SQL] Support Cast string to year...</td>\n",
              "      <td>Angerszhuuuu</td>\n",
              "      <td>angers.zhu@gmail.com</td>\n",
              "      <td>Max Gekk</td>\n",
              "      <td>max.gekk@gmail.com</td>\n",
              "      <td>TRUE</td>\n",
              "      <td>False</td>\n",
              "      <td>False</td>\n",
              "      <td>sql/catalyst/src/main/scala/org/apache/spark/s...</td>\n",
              "      <td>Support Cast string to year-month intervalSupp...</td>\n",
              "      <td>Support Cast string to year-month interval</td>\n",
              "    </tr>\n",
              "    <tr>\n",
              "      <th>1</th>\n",
              "      <td>11ea255283509a9f016f378df4865235a25b1851</td>\n",
              "      <td>[SPARK-35111][SQL] Support Cast string to year...</td>\n",
              "      <td>Angerszhuuuu</td>\n",
              "      <td>angers.zhu@gmail.com</td>\n",
              "      <td>Max Gekk</td>\n",
              "      <td>max.gekk@gmail.com</td>\n",
              "      <td>TRUE</td>\n",
              "      <td>False</td>\n",
              "      <td>False</td>\n",
              "      <td>sql/catalyst/src/main/scala/org/apache/spark/s...</td>\n",
              "      <td>Support Cast string to year-month intervalSupp...</td>\n",
              "      <td>Support Cast string to year-month interval</td>\n",
              "    </tr>\n",
              "    <tr>\n",
              "      <th>2</th>\n",
              "      <td>11ea255283509a9f016f378df4865235a25b1851</td>\n",
              "      <td>[SPARK-35111][SQL] Support Cast string to year...</td>\n",
              "      <td>Angerszhuuuu</td>\n",
              "      <td>angers.zhu@gmail.com</td>\n",
              "      <td>Max Gekk</td>\n",
              "      <td>max.gekk@gmail.com</td>\n",
              "      <td>TRUE</td>\n",
              "      <td>False</td>\n",
              "      <td>False</td>\n",
              "      <td>sql/catalyst/src/test/scala/org/apache/spark/s...</td>\n",
              "      <td>Support Cast string to year-month intervalSupp...</td>\n",
              "      <td>Support Cast string to year-month interval</td>\n",
              "    </tr>\n",
              "    <tr>\n",
              "      <th>3</th>\n",
              "      <td>2d2f467831d17df38fc6522da5066a8d848caaf5</td>\n",
              "      <td>[SPARK-35169][SQL] Fix wrong result of min ANS...</td>\n",
              "      <td>Angerszhuuuu</td>\n",
              "      <td>angers.zhu@gmail.com</td>\n",
              "      <td>Wenchen Fan</td>\n",
              "      <td>wenchen@databricks.com</td>\n",
              "      <td>TRUE</td>\n",
              "      <td>False</td>\n",
              "      <td>False</td>\n",
              "      <td>sql/catalyst/src/main/scala/org/apache/spark/s...</td>\n",
              "      <td>Before this patchWrong result of min ANSI inte...</td>\n",
              "      <td>Fix bug</td>\n",
              "    </tr>\n",
              "    <tr>\n",
              "      <th>4</th>\n",
              "      <td>2d2f467831d17df38fc6522da5066a8d848caaf5</td>\n",
              "      <td>[SPARK-35169][SQL] Fix wrong result of min ANS...</td>\n",
              "      <td>Angerszhuuuu</td>\n",
              "      <td>angers.zhu@gmail.com</td>\n",
              "      <td>Wenchen Fan</td>\n",
              "      <td>wenchen@databricks.com</td>\n",
              "      <td>TRUE</td>\n",
              "      <td>False</td>\n",
              "      <td>False</td>\n",
              "      <td>sql/core/src/test/resources/sql-tests/inputs/i...</td>\n",
              "      <td>Before this patchWrong result of min ANSI inte...</td>\n",
              "      <td>Fix bug</td>\n",
              "    </tr>\n",
              "  </tbody>\n",
              "</table>\n",
              "</div>"
            ],
            "text/plain": [
              "                                   CommitID  ...                                         Why\n",
              "0  11ea255283509a9f016f378df4865235a25b1851  ...  Support Cast string to year-month interval\n",
              "1  11ea255283509a9f016f378df4865235a25b1851  ...  Support Cast string to year-month interval\n",
              "2  11ea255283509a9f016f378df4865235a25b1851  ...  Support Cast string to year-month interval\n",
              "3  2d2f467831d17df38fc6522da5066a8d848caaf5  ...                                     Fix bug\n",
              "4  2d2f467831d17df38fc6522da5066a8d848caaf5  ...                                     Fix bug\n",
              "\n",
              "[5 rows x 12 columns]"
            ]
          },
          "metadata": {
            "tags": []
          },
          "execution_count": 3
        }
      ]
    },
    {
      "cell_type": "code",
      "metadata": {
        "colab": {
          "base_uri": "https://localhost:8080/"
        },
        "id": "wIOgXO2X7FtN",
        "outputId": "d70962d1-c138-49d4-bd54-505a4f9c15a8"
      },
      "source": [
        "df.shape"
      ],
      "execution_count": 4,
      "outputs": [
        {
          "output_type": "execute_result",
          "data": {
            "text/plain": [
              "(10737, 12)"
            ]
          },
          "metadata": {
            "tags": []
          },
          "execution_count": 4
        }
      ]
    },
    {
      "cell_type": "code",
      "metadata": {
        "colab": {
          "base_uri": "https://localhost:8080/"
        },
        "id": "74lW5iCN7Fz5",
        "outputId": "0d1ab3c4-75ce-4aa3-9c36-7cc872549251"
      },
      "source": [
        "df.isnull().sum()"
      ],
      "execution_count": 5,
      "outputs": [
        {
          "output_type": "execute_result",
          "data": {
            "text/plain": [
              "CommitID    0\n",
              "Subject     0\n",
              "Authname    0\n",
              "Authmail    0\n",
              "Commname    0\n",
              "Commmail    0\n",
              "Modf        0\n",
              "Added       0\n",
              "Dltd        0\n",
              "Fname       0\n",
              "What        0\n",
              "Why         0\n",
              "dtype: int64"
            ]
          },
          "metadata": {
            "tags": []
          },
          "execution_count": 5
        }
      ]
    },
    {
      "cell_type": "code",
      "metadata": {
        "id": "-5YeN8Z67F9l"
      },
      "source": [
        "df.dropna(inplace=True)"
      ],
      "execution_count": 6,
      "outputs": []
    },
    {
      "cell_type": "code",
      "metadata": {
        "id": "O6HEnvGl7GD_"
      },
      "source": [
        "df['Fname']= df['Fname'].astype(str)"
      ],
      "execution_count": 7,
      "outputs": []
    },
    {
      "cell_type": "code",
      "metadata": {
        "colab": {
          "base_uri": "https://localhost:8080/"
        },
        "id": "EwaEHYvM7GIS",
        "outputId": "fa9ad07d-1276-49cc-ed66-87f72a20daef"
      },
      "source": [
        "why = df[\"Why\"].unique().tolist()\n",
        "len(why)"
      ],
      "execution_count": 8,
      "outputs": [
        {
          "output_type": "execute_result",
          "data": {
            "text/plain": [
              "1424"
            ]
          },
          "metadata": {
            "tags": []
          },
          "execution_count": 8
        }
      ]
    },
    {
      "cell_type": "code",
      "metadata": {
        "id": "8fzM0VM47GNt"
      },
      "source": [
        "random.shuffle(why)\n",
        "\n",
        "\n",
        "why_train = [why[i] for i in range(round(0.9*len(why)))]\n",
        "\n",
        "train_df = df[df['Why'].isin(why_train)]\n",
        "validation_df = df[~df['Why'].isin(why_train)]"
      ],
      "execution_count": 9,
      "outputs": []
    },
    {
      "cell_type": "code",
      "metadata": {
        "colab": {
          "base_uri": "https://localhost:8080/"
        },
        "id": "8NU-VnXQ7GUj",
        "outputId": "1ecb67fb-31e2-4101-dbfc-aef8f185e1fa"
      },
      "source": [
        "changes_train = []\n",
        "\n",
        "\n",
        "for i in tqdm(why_train):\n",
        "    temp = train_df[train_df[\"Why\"] == i][\"Fname\"].tolist()\n",
        "    changes_train.append(temp)"
      ],
      "execution_count": 10,
      "outputs": [
        {
          "output_type": "stream",
          "text": [
            "100%|██████████| 1282/1282 [00:01<00:00, 979.44it/s]\n"
          ],
          "name": "stderr"
        }
      ]
    },
    {
      "cell_type": "code",
      "metadata": {
        "colab": {
          "base_uri": "https://localhost:8080/"
        },
        "id": "D4QweM3w7GfQ",
        "outputId": "418b8765-4027-48cd-fdea-850c4faeb558"
      },
      "source": [
        "changes_val = []\n",
        "\n",
        "for i in tqdm(validation_df['Why'].unique()):\n",
        "    temp = validation_df[validation_df[\"Why\"] == i][\"Fname\"].tolist()\n",
        "    changes_val.append(temp)"
      ],
      "execution_count": 11,
      "outputs": [
        {
          "output_type": "stream",
          "text": [
            "100%|██████████| 142/142 [00:00<00:00, 2026.14it/s]\n"
          ],
          "name": "stderr"
        }
      ]
    },
    {
      "cell_type": "code",
      "metadata": {
        "colab": {
          "base_uri": "https://localhost:8080/"
        },
        "id": "Ifo16IP07G-8",
        "outputId": "c272d381-03e8-45f6-ab41-7419dcff33c8"
      },
      "source": [
        " #train word2vec model\n",
        "model = Word2Vec(window = 10, sg = 1, hs = 0,\n",
        "                 negative = 10, # for negative sampling\n",
        "                 alpha=0.03, min_alpha=0.0007,\n",
        "                 seed = 14)\n",
        "\n",
        "model.build_vocab(changes_train, progress_per=200)\n",
        "\n",
        "model.train(changes_train, total_examples = model.corpus_count, \n",
        "            epochs=10, report_delay=1)"
      ],
      "execution_count": 12,
      "outputs": [
        {
          "output_type": "execute_result",
          "data": {
            "text/plain": [
              "(42504, 93030)"
            ]
          },
          "metadata": {
            "tags": []
          },
          "execution_count": 12
        }
      ]
    },
    {
      "cell_type": "code",
      "metadata": {
        "id": "_4Q471167HEv"
      },
      "source": [
        "model.init_sims(replace=True)"
      ],
      "execution_count": 13,
      "outputs": []
    },
    {
      "cell_type": "code",
      "metadata": {
        "colab": {
          "base_uri": "https://localhost:8080/"
        },
        "id": "mdVqWbd68SLk",
        "outputId": "21c85d4a-0d8f-4256-f5d9-722533290d39"
      },
      "source": [
        "print(model)"
      ],
      "execution_count": 14,
      "outputs": [
        {
          "output_type": "stream",
          "text": [
            "Word2Vec(vocab=590, size=100, alpha=0.03)\n"
          ],
          "name": "stdout"
        }
      ]
    },
    {
      "cell_type": "code",
      "metadata": {
        "colab": {
          "base_uri": "https://localhost:8080/"
        },
        "id": "qLl3p5PZ8SQp",
        "outputId": "f6673763-bcfe-4f80-926d-253d4b667a73"
      },
      "source": [
        "# extract all vectors\n",
        "X = model[model.wv.vocab]\n",
        "\n",
        "X.shape"
      ],
      "execution_count": 15,
      "outputs": [
        {
          "output_type": "execute_result",
          "data": {
            "text/plain": [
              "(590, 100)"
            ]
          },
          "metadata": {
            "tags": []
          },
          "execution_count": 15
        }
      ]
    },
    {
      "cell_type": "code",
      "metadata": {
        "colab": {
          "base_uri": "https://localhost:8080/"
        },
        "id": "BgJ8ajMJ8SUr",
        "outputId": "189b5ae0-af4c-41ed-9e62-68c35eec9f0d"
      },
      "source": [
        "!pip install umap-learn"
      ],
      "execution_count": 16,
      "outputs": [
        {
          "output_type": "stream",
          "text": [
            "Collecting umap-learn\n",
            "\u001b[?25l  Downloading https://files.pythonhosted.org/packages/75/69/85e7f950bb75792ad5d666d86c5f3e62eedbb942848e7e3126513af9999c/umap-learn-0.5.1.tar.gz (80kB)\n",
            "\u001b[K     |████████████████████████████████| 81kB 4.2MB/s \n",
            "\u001b[?25hRequirement already satisfied: numpy>=1.17 in /usr/local/lib/python3.7/dist-packages (from umap-learn) (1.19.5)\n",
            "Requirement already satisfied: scikit-learn>=0.22 in /usr/local/lib/python3.7/dist-packages (from umap-learn) (0.22.2.post1)\n",
            "Requirement already satisfied: scipy>=1.0 in /usr/local/lib/python3.7/dist-packages (from umap-learn) (1.4.1)\n",
            "Requirement already satisfied: numba>=0.49 in /usr/local/lib/python3.7/dist-packages (from umap-learn) (0.51.2)\n",
            "Collecting pynndescent>=0.5\n",
            "\u001b[?25l  Downloading https://files.pythonhosted.org/packages/af/65/8189298dd3a05bbad716ee8e249764ff8800e365d8dc652ad2192ca01b4a/pynndescent-0.5.2.tar.gz (1.1MB)\n",
            "\u001b[K     |████████████████████████████████| 1.2MB 8.5MB/s \n",
            "\u001b[?25hRequirement already satisfied: joblib>=0.11 in /usr/local/lib/python3.7/dist-packages (from scikit-learn>=0.22->umap-learn) (1.0.1)\n",
            "Requirement already satisfied: setuptools in /usr/local/lib/python3.7/dist-packages (from numba>=0.49->umap-learn) (57.0.0)\n",
            "Requirement already satisfied: llvmlite<0.35,>=0.34.0.dev0 in /usr/local/lib/python3.7/dist-packages (from numba>=0.49->umap-learn) (0.34.0)\n",
            "Building wheels for collected packages: umap-learn, pynndescent\n",
            "  Building wheel for umap-learn (setup.py) ... \u001b[?25l\u001b[?25hdone\n",
            "  Created wheel for umap-learn: filename=umap_learn-0.5.1-cp37-none-any.whl size=76569 sha256=be6d6d5c70dc12f31e8f340ea78ad664a6431728c8e58a225d66ee7ea132fb3d\n",
            "  Stored in directory: /root/.cache/pip/wheels/ad/df/d5/a3691296ff779f25cd1cf415a3af954b987fb53111e3392cf4\n",
            "  Building wheel for pynndescent (setup.py) ... \u001b[?25l\u001b[?25hdone\n",
            "  Created wheel for pynndescent: filename=pynndescent-0.5.2-cp37-none-any.whl size=51362 sha256=327dd877fd45457d9bdcf306bbaa93a497d5bdd662743441def60e88ea641d89\n",
            "  Stored in directory: /root/.cache/pip/wheels/ba/52/4e/4c28d04d144a28f89e2575fb63628df6e6d49b56c5ddd0c74e\n",
            "Successfully built umap-learn pynndescent\n",
            "Installing collected packages: pynndescent, umap-learn\n",
            "Successfully installed pynndescent-0.5.2 umap-learn-0.5.1\n"
          ],
          "name": "stdout"
        }
      ]
    },
    {
      "cell_type": "code",
      "metadata": {
        "colab": {
          "base_uri": "https://localhost:8080/",
          "height": 554
        },
        "id": "nTd4TFg98SYk",
        "outputId": "63cba6cc-04c0-41e0-e9b0-0c6f83877cc2"
      },
      "source": [
        "import umap\n",
        "\n",
        "cluster_embedding = umap.UMAP(n_neighbors=30, min_dist=0.0,\n",
        "                              n_components=2, random_state=42).fit_transform(X)\n",
        "\n",
        "plt.figure(figsize=(10,9))\n",
        "plt.scatter(cluster_embedding[:, 0], cluster_embedding[:, 1], s=3, cmap='Spectral')"
      ],
      "execution_count": 17,
      "outputs": [
        {
          "output_type": "execute_result",
          "data": {
            "text/plain": [
              "<matplotlib.collections.PathCollection at 0x7f738e340910>"
            ]
          },
          "metadata": {
            "tags": []
          },
          "execution_count": 17
        },
        {
          "output_type": "display_data",
          "data": {
            "image/png": "[encoded data removed]",
            "text/plain": [
              "<Figure size 720x648 with 1 Axes>"
            ]
          },
          "metadata": {
            "tags": [],
            "needs_background": "light"
          }
        }
      ]
    },
    {
      "cell_type": "code",
      "metadata": {
        "id": "-7w1PdFO8ScG"
      },
      "source": [
        ""
      ],
      "execution_count": 17,
      "outputs": []
    },
    {
      "cell_type": "code",
      "metadata": {
        "id": "3bUoKEBT8Si7"
      },
      "source": [
        ""
      ],
      "execution_count": 17,
      "outputs": []
    },
    {
      "cell_type": "code",
      "metadata": {
        "id": "pZF-t0Wv8Spy"
      },
      "source": [
        ""
      ],
      "execution_count": 17,
      "outputs": []
    },
    {
      "cell_type": "code",
      "metadata": {
        "id": "dS1lfZA48Su5"
      },
      "source": [
        ""
      ],
      "execution_count": 17,
      "outputs": []
    },
    {
      "cell_type": "code",
      "metadata": {
        "id": "BJ0fiM3g8SzU"
      },
      "source": [
        ""
      ],
      "execution_count": 17,
      "outputs": []
    },
    {
      "cell_type": "code",
      "metadata": {
        "id": "TbgNG0K28S7c"
      },
      "source": [
        ""
      ],
      "execution_count": 17,
      "outputs": []
    },
    {
      "cell_type": "code",
      "metadata": {
        "id": "ALv-mDXS7HKo"
      },
      "source": [
        ""
      ],
      "execution_count": 17,
      "outputs": []
    },
    {
      "cell_type": "code",
      "metadata": {
        "id": "B4pcdV-M7HPX"
      },
      "source": [
        ""
      ],
      "execution_count": 17,
      "outputs": []
    }
  ]
}