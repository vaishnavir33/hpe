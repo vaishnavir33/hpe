{
  "nbformat": 4,
  "nbformat_minor": 0,
  "metadata": {
    "colab": {
      "name": "What & Filename.ipynb",
      "provenance": [],
      "collapsed_sections": [],
      "mount_file_id": "1s5uiobRjnb3C7SPF7LlqAmT8s7NS9YyV",
      "authorship_tag": "ABX9TyPpwTTTyPswk6Hgvr6GdTIf",
      "include_colab_link": true
    },
    "kernelspec": {
      "name": "python3",
      "display_name": "Python 3"
    },
    "language_info": {
      "name": "python"
    }
  },
  "cells": [
    {
      "cell_type": "markdown",
      "metadata": {
        "id": "view-in-github",
        "colab_type": "text"
      },
      "source": [
        "<a href=\"https://colab.research.google.com/github/vaishnavir33/hpe/blob/main/What_%26_Filename.ipynb\" target=\"_parent\"><img src=\"https://colab.research.google.com/assets/colab-badge.svg\" alt=\"Open In Colab\"/></a>"
      ]
    },
    {
      "cell_type": "code",
      "metadata": {
        "colab": {
          "base_uri": "https://localhost:8080/"
        },
        "id": "xWnocMyR6fnt",
        "outputId": "f5b5875c-1103-4d46-ed5d-fa0fb7f1bb75"
      },
      "source": [
        "!pip3 install gensim==3.8.3"
      ],
      "execution_count": 1,
      "outputs": [
        {
          "output_type": "stream",
          "text": [
            "Collecting gensim==3.8.3\n",
            "\u001b[?25l  Downloading https://files.pythonhosted.org/packages/5c/4e/afe2315e08a38967f8a3036bbe7e38b428e9b7a90e823a83d0d49df1adf5/gensim-3.8.3-cp37-cp37m-manylinux1_x86_64.whl (24.2MB)\n",
            "\u001b[K     |████████████████████████████████| 24.2MB 105kB/s \n",
            "\u001b[?25hRequirement already satisfied: smart-open>=1.8.1 in /usr/local/lib/python3.7/dist-packages (from gensim==3.8.3) (5.1.0)\n",
            "Requirement already satisfied: numpy>=1.11.3 in /usr/local/lib/python3.7/dist-packages (from gensim==3.8.3) (1.19.5)\n",
            "Requirement already satisfied: scipy>=0.18.1 in /usr/local/lib/python3.7/dist-packages (from gensim==3.8.3) (1.4.1)\n",
            "Requirement already satisfied: six>=1.5.0 in /usr/local/lib/python3.7/dist-packages (from gensim==3.8.3) (1.15.0)\n",
            "Installing collected packages: gensim\n",
            "  Found existing installation: gensim 3.6.0\n",
            "    Uninstalling gensim-3.6.0:\n",
            "      Successfully uninstalled gensim-3.6.0\n",
            "Successfully installed gensim-3.8.3\n"
          ],
          "name": "stdout"
        }
      ]
    },
    {
      "cell_type": "code",
      "metadata": {
        "id": "NtGJsC-T6oBX"
      },
      "source": [
        "import pandas as pd\n",
        "import numpy as np\n",
        "import random\n",
        "from tqdm import tqdm\n",
        "from gensim.models import Word2Vec \n",
        "import matplotlib.pyplot as plt\n",
        "%matplotlib inline\n",
        "\n",
        "import warnings;\n",
        "warnings.filterwarnings('ignore')"
      ],
      "execution_count": 2,
      "outputs": []
    },
    {
      "cell_type": "code",
      "metadata": {
        "colab": {
          "base_uri": "https://localhost:8080/",
          "height": 768
        },
        "id": "vMywoF1l6oGE",
        "outputId": "56d16e7c-0bd0-4ccf-f082-c6caf78ab7bf"
      },
      "source": [
        "df = pd.read_excel('/content/drive/MyDrive/HPE/Sent/Results New.xlsx')\n",
        "df.head()"
      ],
      "execution_count": 3,
      "outputs": [
        {
          "output_type": "execute_result",
          "data": {
            "text/html": [
              "<div>\n",
              "<style scoped>\n",
              "    .dataframe tbody tr th:only-of-type {\n",
              "        vertical-align: middle;\n",
              "    }\n",
              "\n",
              "    .dataframe tbody tr th {\n",
              "        vertical-align: top;\n",
              "    }\n",
              "\n",
              "    .dataframe thead th {\n",
              "        text-align: right;\n",
              "    }\n",
              "</style>\n",
              "<table border=\"1\" class=\"dataframe\">\n",
              "  <thead>\n",
              "    <tr style=\"text-align: right;\">\n",
              "      <th></th>\n",
              "      <th>CommitID</th>\n",
              "      <th>Subject</th>\n",
              "      <th>Authname</th>\n",
              "      <th>Authmail</th>\n",
              "      <th>Commname</th>\n",
              "      <th>Commmail</th>\n",
              "      <th>Modf</th>\n",
              "      <th>Added</th>\n",
              "      <th>Dltd</th>\n",
              "      <th>Fname</th>\n",
              "      <th>What</th>\n",
              "      <th>Why</th>\n",
              "    </tr>\n",
              "  </thead>\n",
              "  <tbody>\n",
              "    <tr>\n",
              "      <th>0</th>\n",
              "      <td>11ea255283509a9f016f378df4865235a25b1851</td>\n",
              "      <td>[SPARK-35111][SQL] Support Cast string to year...</td>\n",
              "      <td>Angerszhuuuu</td>\n",
              "      <td>angers.zhu@gmail.com</td>\n",
              "      <td>Max Gekk</td>\n",
              "      <td>max.gekk@gmail.com</td>\n",
              "      <td>TRUE</td>\n",
              "      <td>False</td>\n",
              "      <td>False</td>\n",
              "      <td>sql/catalyst/src/main/scala/org/apache/spark/s...</td>\n",
              "      <td>Support Cast string to year-month intervalSupp...</td>\n",
              "      <td>Support Cast string to year-month interval</td>\n",
              "    </tr>\n",
              "    <tr>\n",
              "      <th>1</th>\n",
              "      <td>11ea255283509a9f016f378df4865235a25b1851</td>\n",
              "      <td>[SPARK-35111][SQL] Support Cast string to year...</td>\n",
              "      <td>Angerszhuuuu</td>\n",
              "      <td>angers.zhu@gmail.com</td>\n",
              "      <td>Max Gekk</td>\n",
              "      <td>max.gekk@gmail.com</td>\n",
              "      <td>TRUE</td>\n",
              "      <td>False</td>\n",
              "      <td>False</td>\n",
              "      <td>sql/catalyst/src/main/scala/org/apache/spark/s...</td>\n",
              "      <td>Support Cast string to year-month intervalSupp...</td>\n",
              "      <td>Support Cast string to year-month interval</td>\n",
              "    </tr>\n",
              "    <tr>\n",
              "      <th>2</th>\n",
              "      <td>11ea255283509a9f016f378df4865235a25b1851</td>\n",
              "      <td>[SPARK-35111][SQL] Support Cast string to year...</td>\n",
              "      <td>Angerszhuuuu</td>\n",
              "      <td>angers.zhu@gmail.com</td>\n",
              "      <td>Max Gekk</td>\n",
              "      <td>max.gekk@gmail.com</td>\n",
              "      <td>TRUE</td>\n",
              "      <td>False</td>\n",
              "      <td>False</td>\n",
              "      <td>sql/catalyst/src/test/scala/org/apache/spark/s...</td>\n",
              "      <td>Support Cast string to year-month intervalSupp...</td>\n",
              "      <td>Support Cast string to year-month interval</td>\n",
              "    </tr>\n",
              "    <tr>\n",
              "      <th>3</th>\n",
              "      <td>2d2f467831d17df38fc6522da5066a8d848caaf5</td>\n",
              "      <td>[SPARK-35169][SQL] Fix wrong result of min ANS...</td>\n",
              "      <td>Angerszhuuuu</td>\n",
              "      <td>angers.zhu@gmail.com</td>\n",
              "      <td>Wenchen Fan</td>\n",
              "      <td>wenchen@databricks.com</td>\n",
              "      <td>TRUE</td>\n",
              "      <td>False</td>\n",
              "      <td>False</td>\n",
              "      <td>sql/catalyst/src/main/scala/org/apache/spark/s...</td>\n",
              "      <td>Before this patchWrong result of min ANSI inte...</td>\n",
              "      <td>Fix bug</td>\n",
              "    </tr>\n",
              "    <tr>\n",
              "      <th>4</th>\n",
              "      <td>2d2f467831d17df38fc6522da5066a8d848caaf5</td>\n",
              "      <td>[SPARK-35169][SQL] Fix wrong result of min ANS...</td>\n",
              "      <td>Angerszhuuuu</td>\n",
              "      <td>angers.zhu@gmail.com</td>\n",
              "      <td>Wenchen Fan</td>\n",
              "      <td>wenchen@databricks.com</td>\n",
              "      <td>TRUE</td>\n",
              "      <td>False</td>\n",
              "      <td>False</td>\n",
              "      <td>sql/core/src/test/resources/sql-tests/inputs/i...</td>\n",
              "      <td>Before this patchWrong result of min ANSI inte...</td>\n",
              "      <td>Fix bug</td>\n",
              "    </tr>\n",
              "  </tbody>\n",
              "</table>\n",
              "</div>"
            ],
            "text/plain": [
              "                                   CommitID  ...                                         Why\n",
              "0  11ea255283509a9f016f378df4865235a25b1851  ...  Support Cast string to year-month interval\n",
              "1  11ea255283509a9f016f378df4865235a25b1851  ...  Support Cast string to year-month interval\n",
              "2  11ea255283509a9f016f378df4865235a25b1851  ...  Support Cast string to year-month interval\n",
              "3  2d2f467831d17df38fc6522da5066a8d848caaf5  ...                                     Fix bug\n",
              "4  2d2f467831d17df38fc6522da5066a8d848caaf5  ...                                     Fix bug\n",
              "\n",
              "[5 rows x 12 columns]"
            ]
          },
          "metadata": {
            "tags": []
          },
          "execution_count": 3
        }
      ]
    },
    {
      "cell_type": "code",
      "metadata": {
        "colab": {
          "base_uri": "https://localhost:8080/"
        },
        "id": "ChwLmkA86oLh",
        "outputId": "918669f3-bf44-49b5-c96a-4a5fc87cba9e"
      },
      "source": [
        "df.shape"
      ],
      "execution_count": 4,
      "outputs": [
        {
          "output_type": "execute_result",
          "data": {
            "text/plain": [
              "(10737, 12)"
            ]
          },
          "metadata": {
            "tags": []
          },
          "execution_count": 4
        }
      ]
    },
    {
      "cell_type": "code",
      "metadata": {
        "colab": {
          "base_uri": "https://localhost:8080/"
        },
        "id": "L_wRsHh36oQ7",
        "outputId": "f4e7d67b-2f96-4113-c111-db8cab37ee54"
      },
      "source": [
        "df.isnull().sum()"
      ],
      "execution_count": 5,
      "outputs": [
        {
          "output_type": "execute_result",
          "data": {
            "text/plain": [
              "CommitID    0\n",
              "Subject     0\n",
              "Authname    0\n",
              "Authmail    0\n",
              "Commname    0\n",
              "Commmail    0\n",
              "Modf        0\n",
              "Added       0\n",
              "Dltd        0\n",
              "Fname       0\n",
              "What        0\n",
              "Why         0\n",
              "dtype: int64"
            ]
          },
          "metadata": {
            "tags": []
          },
          "execution_count": 5
        }
      ]
    },
    {
      "cell_type": "code",
      "metadata": {
        "id": "I0x42mmd6oVH"
      },
      "source": [
        "df.dropna(inplace=True)"
      ],
      "execution_count": 6,
      "outputs": []
    },
    {
      "cell_type": "code",
      "metadata": {
        "id": "dnsF1WgX6oZt"
      },
      "source": [
        "df['Fname']= df['Fname'].astype(str)"
      ],
      "execution_count": 7,
      "outputs": []
    },
    {
      "cell_type": "code",
      "metadata": {
        "colab": {
          "base_uri": "https://localhost:8080/"
        },
        "id": "A9cRQkFP6oec",
        "outputId": "ae125b15-8714-40a7-b265-64826e257e39"
      },
      "source": [
        "what = df[\"What\"].unique().tolist()\n",
        "len(what)"
      ],
      "execution_count": 8,
      "outputs": [
        {
          "output_type": "execute_result",
          "data": {
            "text/plain": [
              "1528"
            ]
          },
          "metadata": {
            "tags": []
          },
          "execution_count": 8
        }
      ]
    },
    {
      "cell_type": "code",
      "metadata": {
        "id": "1aogM5jy6ojZ"
      },
      "source": [
        "random.shuffle(what)\n",
        "\n",
        "what_train = [what[i] for i in range(round(0.9*len(what)))]\n",
        "\n",
        "\n",
        "train_df = df[df['What'].isin(what_train)]\n",
        "validation_df = df[~df['What'].isin(what_train)]"
      ],
      "execution_count": 9,
      "outputs": []
    },
    {
      "cell_type": "code",
      "metadata": {
        "colab": {
          "base_uri": "https://localhost:8080/"
        },
        "id": "CoevAzY56ooP",
        "outputId": "119113c3-a29c-4d7b-d9f5-c0776affaf9b"
      },
      "source": [
        "changes_train = []\n",
        "\n",
        "\n",
        "for i in tqdm(what_train):\n",
        "    temp = train_df[train_df[\"What\"] == i][\"Fname\"].tolist()\n",
        "    changes_train.append(temp)"
      ],
      "execution_count": 10,
      "outputs": [
        {
          "output_type": "stream",
          "text": [
            "100%|██████████| 1375/1375 [00:01<00:00, 811.06it/s]\n"
          ],
          "name": "stderr"
        }
      ]
    },
    {
      "cell_type": "code",
      "metadata": {
        "colab": {
          "base_uri": "https://localhost:8080/"
        },
        "id": "uJm-I2Rw6osO",
        "outputId": "4815ea66-efc7-428f-c155-9c64a4587755"
      },
      "source": [
        "changes_val = []\n",
        "\n",
        "for i in tqdm(validation_df['What'].unique()):\n",
        "    temp = validation_df[validation_df[\"What\"] == i][\"Fname\"].tolist()\n",
        "    changes_val.append(temp)"
      ],
      "execution_count": 11,
      "outputs": [
        {
          "output_type": "stream",
          "text": [
            "100%|██████████| 153/153 [00:00<00:00, 1590.42it/s]\n"
          ],
          "name": "stderr"
        }
      ]
    },
    {
      "cell_type": "code",
      "metadata": {
        "colab": {
          "base_uri": "https://localhost:8080/"
        },
        "id": "AD0pB1_P6rce",
        "outputId": "b434cc4c-742d-4044-a8cf-62db0a4d5b6c"
      },
      "source": [
        " #train word2vec model\n",
        "model = Word2Vec(window = 10, sg = 1, hs = 0,\n",
        "                 negative = 10, # for negative sampling\n",
        "                 alpha=0.03, min_alpha=0.0007,\n",
        "                 seed = 14)\n",
        "\n",
        "model.build_vocab(changes_train, progress_per=200)\n",
        "\n",
        "model.train(changes_train, total_examples = model.corpus_count, \n",
        "            epochs=10, report_delay=1)"
      ],
      "execution_count": 12,
      "outputs": [
        {
          "output_type": "execute_result",
          "data": {
            "text/plain": [
              "(45563, 99260)"
            ]
          },
          "metadata": {
            "tags": []
          },
          "execution_count": 12
        }
      ]
    },
    {
      "cell_type": "code",
      "metadata": {
        "id": "OYF7yXDY6rjI"
      },
      "source": [
        "model.init_sims(replace=True)"
      ],
      "execution_count": 13,
      "outputs": []
    },
    {
      "cell_type": "code",
      "metadata": {
        "colab": {
          "base_uri": "https://localhost:8080/"
        },
        "id": "j8LSsx6t8PxZ",
        "outputId": "e729802e-61ec-4d65-bafe-25181a9343f2"
      },
      "source": [
        "print(model)"
      ],
      "execution_count": 14,
      "outputs": [
        {
          "output_type": "stream",
          "text": [
            "Word2Vec(vocab=592, size=100, alpha=0.03)\n"
          ],
          "name": "stdout"
        }
      ]
    },
    {
      "cell_type": "code",
      "metadata": {
        "colab": {
          "base_uri": "https://localhost:8080/"
        },
        "id": "98R0VEZB8QJV",
        "outputId": "292100a3-a9ca-469e-85ea-a623311c4567"
      },
      "source": [
        "# extract all vectors\n",
        "X = model[model.wv.vocab]\n",
        "\n",
        "X.shape"
      ],
      "execution_count": 15,
      "outputs": [
        {
          "output_type": "execute_result",
          "data": {
            "text/plain": [
              "(592, 100)"
            ]
          },
          "metadata": {
            "tags": []
          },
          "execution_count": 15
        }
      ]
    },
    {
      "cell_type": "code",
      "metadata": {
        "colab": {
          "base_uri": "https://localhost:8080/"
        },
        "id": "_QuqCNf88QNT",
        "outputId": "ebac51a8-f2d0-4b61-a44f-45ddb04dcfcb"
      },
      "source": [
        "!pip install umap-learn"
      ],
      "execution_count": 16,
      "outputs": [
        {
          "output_type": "stream",
          "text": [
            "Collecting umap-learn\n",
            "\u001b[?25l  Downloading https://files.pythonhosted.org/packages/75/69/85e7f950bb75792ad5d666d86c5f3e62eedbb942848e7e3126513af9999c/umap-learn-0.5.1.tar.gz (80kB)\n",
            "\u001b[K     |████████████████████████████████| 81kB 4.7MB/s \n",
            "\u001b[?25hRequirement already satisfied: numpy>=1.17 in /usr/local/lib/python3.7/dist-packages (from umap-learn) (1.19.5)\n",
            "Requirement already satisfied: scikit-learn>=0.22 in /usr/local/lib/python3.7/dist-packages (from umap-learn) (0.22.2.post1)\n",
            "Requirement already satisfied: scipy>=1.0 in /usr/local/lib/python3.7/dist-packages (from umap-learn) (1.4.1)\n",
            "Requirement already satisfied: numba>=0.49 in /usr/local/lib/python3.7/dist-packages (from umap-learn) (0.51.2)\n",
            "Collecting pynndescent>=0.5\n",
            "\u001b[?25l  Downloading https://files.pythonhosted.org/packages/af/65/8189298dd3a05bbad716ee8e249764ff8800e365d8dc652ad2192ca01b4a/pynndescent-0.5.2.tar.gz (1.1MB)\n",
            "\u001b[K     |████████████████████████████████| 1.2MB 16.2MB/s \n",
            "\u001b[?25hRequirement already satisfied: joblib>=0.11 in /usr/local/lib/python3.7/dist-packages (from scikit-learn>=0.22->umap-learn) (1.0.1)\n",
            "Requirement already satisfied: llvmlite<0.35,>=0.34.0.dev0 in /usr/local/lib/python3.7/dist-packages (from numba>=0.49->umap-learn) (0.34.0)\n",
            "Requirement already satisfied: setuptools in /usr/local/lib/python3.7/dist-packages (from numba>=0.49->umap-learn) (57.0.0)\n",
            "Building wheels for collected packages: umap-learn, pynndescent\n",
            "  Building wheel for umap-learn (setup.py) ... \u001b[?25l\u001b[?25hdone\n",
            "  Created wheel for umap-learn: filename=umap_learn-0.5.1-cp37-none-any.whl size=76569 sha256=5503722d4dde8e614705f3ba1b96ba8a01fa4041e4e2829ba912b9f999354d56\n",
            "  Stored in directory: /root/.cache/pip/wheels/ad/df/d5/a3691296ff779f25cd1cf415a3af954b987fb53111e3392cf4\n",
            "  Building wheel for pynndescent (setup.py) ... \u001b[?25l\u001b[?25hdone\n",
            "  Created wheel for pynndescent: filename=pynndescent-0.5.2-cp37-none-any.whl size=51362 sha256=a7d886154b433b909974f80e766f7d503cb4eccb951938e784004bbe1c528e26\n",
            "  Stored in directory: /root/.cache/pip/wheels/ba/52/4e/4c28d04d144a28f89e2575fb63628df6e6d49b56c5ddd0c74e\n",
            "Successfully built umap-learn pynndescent\n",
            "Installing collected packages: pynndescent, umap-learn\n",
            "Successfully installed pynndescent-0.5.2 umap-learn-0.5.1\n"
          ],
          "name": "stdout"
        }
      ]
    },
    {
      "cell_type": "code",
      "metadata": {
        "colab": {
          "base_uri": "https://localhost:8080/",
          "height": 554
        },
        "id": "Jyyj7VtRkG2c",
        "outputId": "2a7ac8bb-aa40-48df-9e8f-d935a25e33fc"
      },
      "source": [
        "import umap\n",
        "\n",
        "cluster_embedding = umap.UMAP(n_neighbors=30, min_dist=0.0,\n",
        "                              n_components=2, random_state=42).fit_transform(X)\n",
        "\n",
        "plt.figure(figsize=(10,9))\n",
        "plt.scatter(cluster_embedding[:, 0], cluster_embedding[:, 1], s=3, cmap='Spectral')"
      ],
      "execution_count": 17,
      "outputs": [
        {
          "output_type": "execute_result",
          "data": {
            "text/plain": [
              "<matplotlib.collections.PathCollection at 0x7f027dcab990>"
            ]
          },
          "metadata": {
            "tags": []
          },
          "execution_count": 17
        },
        {
          "output_type": "display_data",
          "data": {
            "image/png": "[encoded data removed]",
            "text/plain": [
              "<Figure size 720x648 with 1 Axes>"
            ]
          },
          "metadata": {
            "tags": [],
            "needs_background": "light"
          }
        }
      ]
    },
    {
      "cell_type": "code",
      "metadata": {
        "id": "czUicxed8Qqj"
      },
      "source": [
        ""
      ],
      "execution_count": 17,
      "outputs": []
    },
    {
      "cell_type": "code",
      "metadata": {
        "id": "hFFAaTfr8Q3Z"
      },
      "source": [
        ""
      ],
      "execution_count": 17,
      "outputs": []
    },
    {
      "cell_type": "code",
      "metadata": {
        "id": "LfjwEkkS8Q_s"
      },
      "source": [
        ""
      ],
      "execution_count": 17,
      "outputs": []
    },
    {
      "cell_type": "code",
      "metadata": {
        "id": "T7Rv2PQJ8RHC"
      },
      "source": [
        ""
      ],
      "execution_count": 17,
      "outputs": []
    },
    {
      "cell_type": "code",
      "metadata": {
        "id": "fv9nEhFV8RNu"
      },
      "source": [
        ""
      ],
      "execution_count": 17,
      "outputs": []
    },
    {
      "cell_type": "code",
      "metadata": {
        "id": "CpUNZJML6roM"
      },
      "source": [
        ""
      ],
      "execution_count": 17,
      "outputs": []
    },
    {
      "cell_type": "code",
      "metadata": {
        "id": "Brv7MYxc6rs8"
      },
      "source": [
        ""
      ],
      "execution_count": 17,
      "outputs": []
    },
    {
      "cell_type": "code",
      "metadata": {
        "id": "irQ66Ztw6rxT"
      },
      "source": [
        ""
      ],
      "execution_count": 17,
      "outputs": []
    },
    {
      "cell_type": "code",
      "metadata": {
        "id": "nB9irPdJ6r4b"
      },
      "source": [
        ""
      ],
      "execution_count": 17,
      "outputs": []
    },
    {
      "cell_type": "code",
      "metadata": {
        "id": "0ckeeolk6r-d"
      },
      "source": [
        ""
      ],
      "execution_count": 17,
      "outputs": []
    },
    {
      "cell_type": "code",
      "metadata": {
        "id": "s6XDlwkh6sCY"
      },
      "source": [
        ""
      ],
      "execution_count": 17,
      "outputs": []
    },
    {
      "cell_type": "code",
      "metadata": {
        "id": "-m6Sb96z6sI0"
      },
      "source": [
        ""
      ],
      "execution_count": 17,
      "outputs": []
    },
    {
      "cell_type": "code",
      "metadata": {
        "id": "HFnu-_ug6sNw"
      },
      "source": [
        ""
      ],
      "execution_count": 17,
      "outputs": []
    },
    {
      "cell_type": "code",
      "metadata": {
        "id": "E5pyvGxi6sTP"
      },
      "source": [
        ""
      ],
      "execution_count": 17,
      "outputs": []
    },
    {
      "cell_type": "code",
      "metadata": {
        "id": "RYocXIuk6o-N"
      },
      "source": [
        ""
      ],
      "execution_count": 17,
      "outputs": []
    },
    {
      "cell_type": "code",
      "metadata": {
        "id": "jv8c3an36pFI"
      },
      "source": [
        ""
      ],
      "execution_count": 17,
      "outputs": []
    },
    {
      "cell_type": "code",
      "metadata": {
        "id": "VdqBuTQz6pKM"
      },
      "source": [
        ""
      ],
      "execution_count": 17,
      "outputs": []
    },
    {
      "cell_type": "code",
      "metadata": {
        "id": "ZBNpxv596poK"
      },
      "source": [
        ""
      ],
      "execution_count": 17,
      "outputs": []
    },
    {
      "cell_type": "code",
      "metadata": {
        "id": "c-6FBI-j6px2"
      },
      "source": [
        ""
      ],
      "execution_count": 17,
      "outputs": []
    },
    {
      "cell_type": "code",
      "metadata": {
        "id": "FPqHwFj56qAI"
      },
      "source": [
        ""
      ],
      "execution_count": 17,
      "outputs": []
    },
    {
      "cell_type": "code",
      "metadata": {
        "id": "YVKwPeiJ6qFE"
      },
      "source": [
        ""
      ],
      "execution_count": 17,
      "outputs": []
    }
  ]
}